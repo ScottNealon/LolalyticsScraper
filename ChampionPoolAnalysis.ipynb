{
 "cells": [
  {
   "cell_type": "code",
   "execution_count": null,
   "metadata": {},
   "outputs": [],
   "source": [
    "# ONLY RUN THIS IF RUNNING IN GOOGLE COLAB\n",
    "!rm LolalyticsScraper -r -f\n",
    "!git clone https://github.com/ScottNealon/LolalyticsScraper.git\n",
    "%cd /content/LolalyticsScraper"
   ]
  },
  {
   "cell_type": "code",
   "execution_count": null,
   "metadata": {},
   "outputs": [],
   "source": [
    "# Run this section to update the data files read by the library. This must be run the first time the repository is\n",
    "# cloned. After that, only whenever the user wants to requery Lolalytics.\n",
    "from lolalytics_scraper.load_data import update_data, QUEUES\n",
    "\n",
    "update_data(\n",
    "    lolalytics_patch=30,\n",
    "    queue=QUEUES[\"Solo/Duo\"],\n",
    "    tier=\"plat_plus\",\n",
    "    region=\"all\"\n",
    ")"
   ]
  },
  {
   "cell_type": "code",
   "execution_count": null,
   "metadata": {},
   "outputs": [],
   "source": [
    "# Import library and data about all League of Legends characters from data\n",
    "# NOTE: If you get an error when reimporting, try restarting Jupyter kernal\n",
    "from lolalytics_scraper.roster import Roster\n",
    "roster = Roster()"
   ]
  },
  {
   "cell_type": "code",
   "execution_count": null,
   "metadata": {},
   "outputs": [],
   "source": [
    "# Create your champion pool here\n",
    "champion_pool = [\n",
    "    roster.get_champion_by_name(\"AurelionSol\", \"middle\"),\n",
    "    roster.get_champion_by_name(\"Taliyah\", \"middle\"),\n",
    "    roster.get_champion_by_name(\"Swain\", \"middle\"),\n",
    "]"
   ]
  },
  {
   "cell_type": "code",
   "execution_count": null,
   "metadata": {},
   "outputs": [],
   "source": [
    "# Analyze champion pool\n",
    "\n",
    "from pandas import option_context\n",
    "\n",
    "champion_pool_results_df, matchups_df, candidate_champions_df = roster.analyze_champion_pool(champion_pool)\n",
    "\n",
    "with option_context('display.max_colwidth', 400, 'display.float_format', \"{:.2%}\".format):\n",
    "    display(champion_pool_results_df)\n",
    "    display(matchups_df)\n",
    "    display(candidate_champions_df)"
   ]
  }
 ],
 "metadata": {
  "kernelspec": {
   "display_name": ".env",
   "language": "python",
   "name": "python3"
  },
  "language_info": {
   "codemirror_mode": {
    "name": "ipython",
    "version": 3
   },
   "file_extension": ".py",
   "mimetype": "text/x-python",
   "name": "python",
   "nbconvert_exporter": "python",
   "pygments_lexer": "ipython3",
   "version": "3.10.7"
  },
  "orig_nbformat": 4
 },
 "nbformat": 4,
 "nbformat_minor": 2
}
