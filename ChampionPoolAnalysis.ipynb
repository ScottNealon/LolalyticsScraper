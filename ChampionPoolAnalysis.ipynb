{
 "cells": [
  {
   "cell_type": "code",
   "execution_count": null,
   "metadata": {},
   "outputs": [],
   "source": [
    "# Install repository\n",
    "!pip install git+https://github.com/ScottNealon/LolalyticsScraper.git"
   ]
  },
  {
   "cell_type": "code",
   "execution_count": null,
   "metadata": {},
   "outputs": [],
   "source": [
    "# Run this section to update the data files read by the library. This must be run the first time the repository is\n",
    "# cloned. After that, only whenever the user wants to requery Lolalytics.\n",
    "# NOTE: This can take several minutes.\n",
    "from lolalytics_scraper.load_data import update_data, QUEUES\n",
    "\n",
    "update_data(\n",
    "    lolalytics_patch=30,\n",
    "    queue=QUEUES[\"Solo/Duo\"],\n",
    "    tier=\"platinum_plus\",\n",
    "    region=\"all\"\n",
    ")"
   ]
  },
  {
   "cell_type": "code",
   "execution_count": null,
   "metadata": {},
   "outputs": [],
   "source": [
    "# Import library and data about all League of Legends characters from data\n",
    "from lolalytics_scraper.roster import Roster\n",
    "roster = Roster()"
   ]
  },
  {
   "cell_type": "code",
   "execution_count": null,
   "metadata": {},
   "outputs": [],
   "source": [
    "# Create your champion pool here\n",
    "champion_pool = [\n",
    "    roster.get_champion_by_name(\"Naafiri\", \"top\"), # Hidden because she dominates TOO much\n",
    "    roster.get_champion_by_name(\"Gwen\", \"top\"),\n",
    "    roster.get_champion_by_name(\"DrMundo\", \"top\"),\n",
    "    roster.get_champion_by_name(\"Maokai\", \"top\"),\n",
    "    roster.get_champion_by_name(\"Nasus\", \"top\"),\n",
    "    roster.get_champion_by_name(\"Malphite\", \"top\"),\n",
    "    roster.get_champion_by_name(\"Volibear\", \"top\"),\n",
    "    roster.get_champion_by_name(\"Rammus\", \"top\")\n",
    "    # roster.get_champion_by_name(\"Quinn\", \"top\"), # Depreciated because my team would hate me\n",
    "    # roster.get_champion_by_name(\"Ornn\", \"top\"), # Depreciated in favor of just playing Maokai\n",
    "    # roster.get_champion_by_name(\"Kayle\", \"top\"), # Depreciated because not super interested in playing\n",
    "]"
   ]
  },
  {
   "cell_type": "code",
   "execution_count": null,
   "metadata": {},
   "outputs": [],
   "source": [
    "# Analyze champion pool\n",
    "champion_pool_results, matchups, candidate_champions = roster.display_champion_pool_analysis(champion_pool)\n",
    "\n",
    "display(champion_pool_results)\n",
    "display(matchups)\n",
    "display(candidate_champions)"
   ]
  }
 ],
 "metadata": {
  "kernelspec": {
   "display_name": ".env",
   "language": "python",
   "name": "python3"
  },
  "language_info": {
   "codemirror_mode": {
    "name": "ipython",
    "version": 3
   },
   "file_extension": ".py",
   "mimetype": "text/x-python",
   "name": "python",
   "nbconvert_exporter": "python",
   "pygments_lexer": "ipython3",
   "version": "3.10.7"
  },
  "orig_nbformat": 4
 },
 "nbformat": 4,
 "nbformat_minor": 2
}
